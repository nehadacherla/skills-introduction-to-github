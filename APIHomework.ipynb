{
  "nbformat": 4,
  "nbformat_minor": 0,
  "metadata": {
    "colab": {
      "provenance": [],
      "authorship_tag": "ABX9TyO61qKslG2aTbiPyViRncVy",
      "include_colab_link": true
    },
    "kernelspec": {
      "name": "python3",
      "display_name": "Python 3"
    },
    "language_info": {
      "name": "python"
    }
  },
  "cells": [
    {
      "cell_type": "markdown",
      "metadata": {
        "id": "view-in-github",
        "colab_type": "text"
      },
      "source": [
        "<a href=\"https://colab.research.google.com/github/nehadacherla/skills-introduction-to-github/blob/main/APIHomework.ipynb\" target=\"_parent\"><img src=\"https://colab.research.google.com/assets/colab-badge.svg\" alt=\"Open In Colab\"/></a>"
      ]
    },
    {
      "source": [
        "import json\n",
        "import pandas as pd\n",
        "import requests\n",
        "\n",
        "stock_ticker = input(\"Enter a stock ticker: \")\n",
        "\n",
        "apikey = \"yIH8G4ESyh6lkLcmXxCSdaW39SEkBq0g6vHsahUW\"\n",
        "url = f\"https://yfapi.net/v6/finance/quote?region=US&lang=en&symbols={stock_ticker}\"\n",
        "url2 = f\"https://yfapi.net/v11/finance/quoteSummary/{stock_ticker}?lang=en&region=US&modules=financialData\"\n",
        "\n",
        "headers = {'x-api-key': apikey}\n",
        "\n",
        "response = requests.get(url, headers=headers)\n",
        "response2 = requests.get(url2, headers=headers)\n",
        "\n",
        "if response.status_code==200:\n",
        "  data = response.json()\n",
        "  result = data.get('quoteResponse', {}).get('result', [])\n",
        "\n",
        "if response2.status_code == 200:\n",
        "  data2 = response2.json()\n",
        "\n",
        "ticker_name = data.get('quoteResponse', {}).get('result', [])[0].get('displayName')\n",
        "full_name = data.get('quoteResponse', {}).get('result', [])[0].get('longName')\n",
        "current_price = data.get('quoteResponse', {}).get('result', [])[0].get('regularMarketPrice')\n",
        "target_mean_price = data2.get('quoteSummary', {}).get('result', [])[0].get('financialData').get('targetMeanPrice').get('raw')\n",
        "week_52_high = data.get('quoteResponse', {}).get('result', [])[0].get('fiftyTwoWeekHigh')\n",
        "week_52_low = data.get('quoteResponse', {}).get('result', [])[0].get('fiftyTwoWeekLow')\n",
        "\n",
        "print(f\"Ticker Name: {ticker_name}\")\n",
        "print(f\"Full Name: {full_name}\")\n",
        "print(f\"Current Market Price: {current_price}\")\n",
        "print(f\"Target Mean Price: {target_mean_price}\")\n",
        "print(f\"52 Week High: {week_52_high}\")\n",
        "print(f\"52 Week Low: {week_52_low}\")\n",
        "\n",
        "url3 = \"https://yfapi.net/v1/finance/trending/US\"\n",
        "response_trending = requests.get(url3, headers=headers)\n",
        "\n",
        "if response_trending.status_code == 200:\n",
        "  trending_data = response_trending.json()\n",
        "  trending_quotes = trending_data.get('finance', {}).get('result', [])[0].get('quotes', [])\n",
        "\n",
        "  count = 1\n",
        "  print(\"Trending Stocks:\")\n",
        "  for result in trending_quotes:\n",
        "    print(f\"{count}. {result.get('symbol')}\")\n",
        "    count += 1\n",
        "    if count > 5:\n",
        "        break\n",
        "\n",
        "df = pd.DataFrame({\n",
        "    \"Ticker Name\": [ticker_name],\n",
        "    \"Full Name\": [full_name],\n",
        "    \"Current Market Price\": [current_price],\n",
        "    \"Target Mean Price\": [target_mean_price],\n",
        "    \"52 Week High\": [week_52_high],\n",
        "    \"52 Week Low\": [week_52_low],\n",
        "    \"Trending Stocks\": [trending_quotes]\n",
        "})\n",
        "\n",
        "df.to_csv(f\"{stock_ticker}_stock.csv\", index=False)\n",
        "print(f\"Stock data saved to {stock_ticker}_stock.csv\")\n"
      ],
      "cell_type": "code",
      "metadata": {
        "colab": {
          "base_uri": "https://localhost:8080/"
        },
        "id": "W0HYwTW3cwBJ",
        "outputId": "0cdce5c7-4a9e-4ef0-ab8e-8de64f22663a"
      },
      "execution_count": 7,
      "outputs": [
        {
          "output_type": "stream",
          "name": "stdout",
          "text": [
            "Enter a stock ticker: AAPL\n",
            "Ticker Name: Apple\n",
            "Full Name: Apple Inc.\n",
            "Current Market Price: 233.0\n",
            "Target Mean Price: 240.58\n",
            "52 Week High: 237.23\n",
            "52 Week Low: 164.08\n",
            "Trending Stocks:\n",
            "1. AAPL\n",
            "2. STLA\n",
            "3. HOLO\n",
            "4. XHG\n",
            "5. CCL\n",
            "Stock data saved to AAPL_stock.csv\n"
          ]
        }
      ]
    }
  ]
}